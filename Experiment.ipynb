{
 "cells": [
  {
   "cell_type": "markdown",
   "id": "cd7399e3",
   "metadata": {},
   "source": [
    "In this notebook we'll use the open bandit pipeline"
   ]
  },
  {
   "cell_type": "code",
   "execution_count": 8,
   "id": "37e17021",
   "metadata": {},
   "outputs": [],
   "source": [
    "import numpy as np\n",
    "import matplotlib.pyplot as plt\n",
    "import pandas as pd\n",
    "\n",
    "from sklearn.linear_model import LogisticRegression\n",
    "# implementing OPE of the IPWLearner using synthetic bandit data\n",
    "from sklearn.linear_model import LinearRegression\n",
    "\n",
    "# implementing OPE of the IPWLearner using synthetic bandit data\n",
    "from sklearn.linear_model import LogisticRegression\n",
    "# import open bandit pipeline (obp)\n",
    "from obp.dataset import SyntheticBanditDataset\n",
    "from obp.policy import IPWLearner\n",
    "from obp.ope import (\n",
    "    OffPolicyEvaluation,\n",
    "    RegressionModel,\n",
    "    InverseProbabilityWeighting as IPW,\n",
    "    DirectMethod as DM,\n",
    "    DoublyRobust as DR,\n",
    ")\n"
   ]
  },
  {
   "cell_type": "code",
   "execution_count": 9,
   "id": "5b17610e",
   "metadata": {},
   "outputs": [],
   "source": [
    "from sklearn.ensemble import RandomForestClassifier\n",
    "from sklearn.linear_model import LogisticRegression\n",
    "\n",
    "import obp\n",
    "from obp.dataset import OpenBanditDataset\n",
    "from obp.policy import IPWLearner, NNPolicyLearner\n",
    "from obp.ope import (\n",
    "    RegressionModel,\n",
    "    OffPolicyEvaluation,\n",
    "    SelfNormalizedInverseProbabilityWeighting as SNIPS,\n",
    "    DoublyRobust as DR,\n",
    ")"
   ]
  },
  {
   "cell_type": "markdown",
   "id": "281b04c9",
   "metadata": {},
   "source": [
    "We will unload the picke files"
   ]
  },
  {
   "cell_type": "code",
   "execution_count": 10,
   "id": "45f06699",
   "metadata": {},
   "outputs": [],
   "source": [
    "import pickle \n"
   ]
  },
  {
   "cell_type": "code",
   "execution_count": 11,
   "id": "b107906b",
   "metadata": {},
   "outputs": [],
   "source": [
    "with open('saved_bdf_dic_train.pkl', 'rb') as f:\n",
    "    bdf_feedback_train_k = pickle.load(f)\n",
    "    \n",
    "    \n",
    "\n",
    "        "
   ]
  },
  {
   "cell_type": "code",
   "execution_count": 13,
   "id": "9c14754e",
   "metadata": {},
   "outputs": [],
   "source": [
    "with open('saved_bdf_dic_test.pkl', 'rb') as f:\n",
    "    bdf_feedback_test_k = pickle.load(f)\n",
    "    \n",
    "    \n"
   ]
  },
  {
   "cell_type": "code",
   "execution_count": 33,
   "id": "ba8b786d",
   "metadata": {},
   "outputs": [],
   "source": [
    "for k in np.arange(0.1,1.5,0.3):\n",
    "    bdf_feedback_test_k[np.around(k,decimals=1)]=bdf_feedback_test_k[k]\n",
    "    bdf_feedback_train_k[np.around(k,decimals=1)]=bdf_feedback_train_k[k]"
   ]
  },
  {
   "cell_type": "markdown",
   "id": "44e0173b",
   "metadata": {},
   "source": [
    "some quantities needed to be of type float"
   ]
  },
  {
   "cell_type": "code",
   "execution_count": 16,
   "id": "9e41feba",
   "metadata": {},
   "outputs": [],
   "source": [
    "l=['expected_reward','pi_b','pscore']\n",
    "for k in np.arange(0.1,1.5,0.3):\n",
    "    \n",
    "    for j in l:\n",
    "\n",
    "        bdf_feedback_train_k[k][j]=bdf_feedback_train_k[k][j].astype(float)\n",
    "        bdf_feedback_test_k[k][j]=bdf_feedback_test_k[k][j].astype(float)"
   ]
  },
  {
   "cell_type": "markdown",
   "id": "56d82257",
   "metadata": {},
   "source": [
    "This is the step of off policy learning we create a class to  have an estimate $$\\hat{V}(\\pi;D_0)$$ of $$V(\\pi,D_0)$$ to find the argmax on the space of policy\n",
    "\n",
    "The base classifier is the ML classifier used to train an offline decision making policy"
   ]
  },
  {
   "cell_type": "code",
   "execution_count": 17,
   "id": "f05753d1",
   "metadata": {},
   "outputs": [],
   "source": [
    "eval_policy = IPWLearner(n_actions=85, base_classifier=LogisticRegression())"
   ]
  },
  {
   "cell_type": "markdown",
   "id": "1ef9f43a",
   "metadata": {},
   "source": [
    "The OPE is chosen method to evaluate our new policy"
   ]
  },
  {
   "cell_type": "code",
   "execution_count": 83,
   "id": "0d693f25",
   "metadata": {},
   "outputs": [
    {
     "name": "stderr",
     "output_type": "stream",
     "text": [
      "/opt/homebrew/anaconda3/envs/newenv/lib/python3.9/site-packages/sklearn/linear_model/_logistic.py:458: ConvergenceWarning: lbfgs failed to converge (status=1):\n",
      "STOP: TOTAL NO. of ITERATIONS REACHED LIMIT.\n",
      "\n",
      "Increase the number of iterations (max_iter) or scale the data as shown in:\n",
      "    https://scikit-learn.org/stable/modules/preprocessing.html\n",
      "Please also refer to the documentation for alternative solver options:\n",
      "    https://scikit-learn.org/stable/modules/linear_model.html#logistic-regression\n",
      "  n_iter_i = _check_optimize_result(\n"
     ]
    }
   ],
   "source": [
    "\n",
    "eval_policy.fit(\n",
    "    context=bdf_feedback_train[\"context\"],\n",
    "    action=bdf_feedback_train[\"action\"],\n",
    "    reward=bdf_feedback_train[\"reward\"],\n",
    "    pscore=bdf_feedback_train[\"pscore\"]\n",
    ")\n",
    "action_dist = eval_policy.predict(context=bdf_feedback_test[\"context\"])\n",
    "\n",
    "\n",
    "ope = OffPolicyEvaluation(\n",
    "    bandit_feedback=bdf_feedback_test,\n",
    "    ope_estimators=[IPW(), DM(), DR()]\n",
    ")"
   ]
  },
  {
   "cell_type": "markdown",
   "id": "7edf1453",
   "metadata": {},
   "source": [
    "In the case we use a model base approach we can have a an ML algorithm to predict the reward"
   ]
  },
  {
   "cell_type": "code",
   "execution_count": 84,
   "id": "6f8a8e94",
   "metadata": {},
   "outputs": [],
   "source": [
    "# (3) Off-Policy Evaluation\n",
    "regression_model = RegressionModel(\n",
    "    n_actions=85,\n",
    "    base_model=LinearRegression(),\n",
    ")\n",
    "estimated_rewards_by_reg_model = regression_model.fit_predict(\n",
    "    context=bdf_feedback_test[\"context\"],\n",
    "    action=bdf_feedback_test[\"action\"],\n",
    "    reward=bdf_feedback_test[\"reward\"],\n",
    ")"
   ]
  },
  {
   "cell_type": "markdown",
   "id": "92f3fa6e",
   "metadata": {},
   "source": [
    "A way to visualize the estimation of V(pi) "
   ]
  },
  {
   "cell_type": "code",
   "execution_count": 85,
   "id": "ede20b10",
   "metadata": {},
   "outputs": [
    {
     "name": "stderr",
     "output_type": "stream",
     "text": [
      "/Users/samuelgirard/zr-obp/obp/ope/meta.py:640: FutureWarning: \n",
      "\n",
      "The `ci` parameter is deprecated. Use `errorbar=('ci', 95.0)` for the same effect.\n",
      "\n",
      "  sns.barplot(\n"
     ]
    },
    {
     "data": {
      "image/png": "[encoded data removed]",
      "text/plain": [
       "<Figure size 800x600 with 1 Axes>"
      ]
     },
     "metadata": {},
     "output_type": "display_data"
    }
   ],
   "source": [
    "ope.visualize_off_policy_estimates(\n",
    "    action_dist=action_dist,\n",
    "    estimated_rewards_by_reg_model=estimated_rewards_by_reg_model,\n",
    ")\n",
    "\n"
   ]
  },
  {
   "cell_type": "code",
   "execution_count": 11,
   "id": "2a535567",
   "metadata": {},
   "outputs": [],
   "source": [
    "from obp.ope import SelfNormalizedInverseProbabilityWeighting"
   ]
  },
  {
   "cell_type": "code",
   "execution_count": 12,
   "id": "a3a48071",
   "metadata": {},
   "outputs": [],
   "source": [
    "from obp.policy import QLearner"
   ]
  },
  {
   "cell_type": "code",
   "execution_count": 12,
   "id": "26bd691e",
   "metadata": {},
   "outputs": [],
   "source": [
    "from obp.policy import NNPolicyLearner"
   ]
  },
  {
   "cell_type": "code",
   "execution_count": 58,
   "id": "686f278e",
   "metadata": {},
   "outputs": [],
   "source": [
    "nnpol=NNPolicyLearner(n_actions=112,dim_context=1,off_policy_objective='ipw-subgauss')"
   ]
  },
  {
   "cell_type": "code",
   "execution_count": 59,
   "id": "ed1dd131",
   "metadata": {},
   "outputs": [
    {
     "name": "stderr",
     "output_type": "stream",
     "text": [
      "policy learning: 100%|████████████████████████| 200/200 [48:15<00:00, 14.48s/it]\n"
     ]
    }
   ],
   "source": [
    "nnpol.fit(context=bdf_feedback_train[\"context\"],\n",
    "    action=bdf_feedback_train[\"action\"],\n",
    "    reward=bdf_feedback_train[\"reward\"],\n",
    "    pscore=bdf_feedback_train[\"pscore\"])"
   ]
  },
  {
   "cell_type": "code",
   "execution_count": 62,
   "id": "a62479d9",
   "metadata": {},
   "outputs": [],
   "source": [
    "nn_dist=nnpol.predict(bdf_feedback_test[\"context\"])"
   ]
  },
  {
   "cell_type": "code",
   "execution_count": 13,
   "id": "8e8ae17f",
   "metadata": {},
   "outputs": [],
   "source": [
    "ac_opt=np.zeros((len(bdf_feedback_test['context']),85,1))\n",
    "ma=bdf_feedback_test['expected_reward'].argmax(1)\n",
    "for j in range(len(bdf_feedback_test['context'])):\n",
    "    ac_opt[j,ma[j],None]=1\n"
   ]
  },
  {
   "cell_type": "code",
   "execution_count": 14,
   "id": "cd0e0acb",
   "metadata": {},
   "outputs": [
    {
     "name": "stderr",
     "output_type": "stream",
     "text": [
      "/opt/homebrew/anaconda3/envs/newenv/lib/python3.9/site-packages/sklearn/linear_model/_logistic.py:458: ConvergenceWarning: lbfgs failed to converge (status=1):\n",
      "STOP: TOTAL NO. of ITERATIONS REACHED LIMIT.\n",
      "\n",
      "Increase the number of iterations (max_iter) or scale the data as shown in:\n",
      "    https://scikit-learn.org/stable/modules/preprocessing.html\n",
      "Please also refer to the documentation for alternative solver options:\n",
      "    https://scikit-learn.org/stable/modules/linear_model.html#logistic-regression\n",
      "  n_iter_i = _check_optimize_result(\n"
     ]
    }
   ],
   "source": [
    "#evaluation policy with different estimators\n",
    "qlearner=QLearner(n_actions=85,base_model=LinearRegression())\n",
    "eval_policy = IPWLearner(n_actions=85, base_classifier=LogisticRegression())\n",
    "eval_policy_rf = IPWLearner(\n",
    "    n_actions=85,\n",
    "    base_classifier=RandomForestClassifier(\n",
    "        n_estimators=100, max_depth=5, min_samples_leaf=10, random_state=12345\n",
    "    ),\n",
    ")\n",
    "qlearner.fit(\n",
    "    context=bdf_feedback_train[\"context\"],\n",
    "    action=bdf_feedback_train[\"action\"],\n",
    "    reward=bdf_feedback_train[\"reward\"],\n",
    "    pscore=bdf_feedback_train[\"pscore\"]\n",
    ")\n",
    "eval_policy.fit(\n",
    "    context=bdf_feedback_train[\"context\"],\n",
    "    action=bdf_feedback_train[\"action\"],\n",
    "    reward=bdf_feedback_train[\"reward\"],\n",
    "    pscore=bdf_feedback_train[\"pscore\"]\n",
    ")\n",
    "eval_policy_rf.fit(\n",
    "    context=bdf_feedback_train[\"context\"],\n",
    "    action=bdf_feedback_train[\"action\"],\n",
    "    reward=bdf_feedback_train[\"reward\"],\n",
    "    pscore=bdf_feedback_train[\"pscore\"]\n",
    ")\n",
    "\n",
    "#obtaining the new policy\n",
    "qlearner_dist=qlearner.predict(bdf_feedback_test[\"context\"])\n",
    "eval_policy_dist=eval_policy.predict(bdf_feedback_test[\"context\"])\n",
    "eval_policy_rf_dist=eval_policy_rf.predict(bdf_feedback_test[\"context\"])\n",
    "optimal_dist=ac_opt\n"
   ]
  },
  {
   "cell_type": "code",
   "execution_count": 15,
   "id": "f0911d24",
   "metadata": {},
   "outputs": [],
   "source": [
    "ipw=IPW()\n",
    "dm=DM()\n",
    "dr=DR()"
   ]
  },
  {
   "cell_type": "code",
   "execution_count": 19,
   "id": "0d95fd04",
   "metadata": {},
   "outputs": [],
   "source": [
    "v_df.loc['policy_of_IPW_random_forest','IPW_estimator']=ipw.estimate_policy_value(reward=bdf_feedback_test[\"reward\"],\n",
    "                                  action=bdf_feedback_test[\"action\"],pscore=bdf_feedback_test[\"pscore\"],\n",
    "                                  action_dist=eval_policy_rf_dist)\n",
    "\n",
    "v_df.loc['policy_of_IPW_logistic_regression','IPW_estimator']=ipw.estimate_policy_value(reward=bdf_feedback_test[\"reward\"],\n",
    "                                  action=bdf_feedback_test[\"action\"],pscore=bdf_feedback_test[\"pscore\"],\n",
    "                                  action_dist=eval_policy_dist)\n",
    "\n",
    "v_df.loc['policy_of_DM','IPW_estimator']=ipw.estimate_policy_value(reward=bdf_feedback_test[\"reward\"],\n",
    "                                  action=bdf_feedback_test[\"action\"],pscore=bdf_feedback_test[\"pscore\"],\n",
    "                                  action_dist=qlearner_dist)\n",
    "\n",
    "v_df.loc['optimal_policy','IPW_estimator']=ipw.estimate_policy_value(reward=bdf_feedback_test[\"reward\"],\n",
    "                                  action=bdf_feedback_test[\"action\"],pscore=bdf_feedback_test[\"pscore\"],\n",
    "                                  action_dist=optimal_dist)\n",
    "v_df.loc['behavior_policy','IPW_estimator']=ipw.estimate_policy_value(reward=bdf_feedback_test[\"reward\"],\n",
    "                                  action=bdf_feedback_test[\"action\"],pscore=bdf_feedback_test[\"pscore\"],\n",
    "                                  action_dist=bdf_feedback_test[\"pi_b\"])\n",
    "\n"
   ]
  },
  {
   "cell_type": "code",
   "execution_count": 18,
   "id": "bcdce635",
   "metadata": {},
   "outputs": [],
   "source": [
    "\n",
    "v_df.loc['policy_of_IPW_random_forest','DR_estimator']=dr.estimate_policy_value(reward=bdf_feedback_test[\"reward\"],\n",
    "                                  action=bdf_feedback_test[\"action\"],pscore=bdf_feedback_test[\"pscore\"],\n",
    "                                  action_dist=eval_policy_rf_dist,estimated_rewards_by_reg_model=estimated_rewards_by_reg_model)\n",
    "\n",
    "v_df.loc['policy_of_IPW_logistic_regression','DR_estimator']=dr.estimate_policy_value(reward=bdf_feedback_test[\"reward\"],\n",
    "                                  action=bdf_feedback_test[\"action\"],pscore=bdf_feedback_test[\"pscore\"],\n",
    "                                  action_dist=eval_policy_dist,estimated_rewards_by_reg_model=estimated_rewards_by_reg_model)\n",
    "\n",
    "v_df.loc['policy_of_DM','DR_estimator']=dr.estimate_policy_value(reward=bdf_feedback_test[\"reward\"],\n",
    "                                  action=bdf_feedback_test[\"action\"],pscore=bdf_feedback_test[\"pscore\"],\n",
    "                                  action_dist=qlearner_dist,estimated_rewards_by_reg_model=estimated_rewards_by_reg_model)\n",
    "\n",
    "v_df.loc['optimal_policy','DR_estimator']=dr.estimate_policy_value(reward=bdf_feedback_test[\"reward\"],\n",
    "                                  action=bdf_feedback_test[\"action\"],pscore=bdf_feedback_test[\"pscore\"],\n",
    "                                  action_dist=optimal_dist,estimated_rewards_by_reg_model=estimated_rewards_by_reg_model)\n",
    "v_df.loc['behavior_policy','DR_estimator']=dr.estimate_policy_value(reward=bdf_feedback_test[\"reward\"],\n",
    "                                  action=bdf_feedback_test[\"action\"],pscore=bdf_feedback_test[\"pscore\"],\n",
    "                                  action_dist=bdf_feedback_test[\"pi_b\"],estimated_rewards_by_reg_model=estimated_rewards_by_reg_model)\n",
    "\n"
   ]
  },
  {
   "cell_type": "code",
   "execution_count": 20,
   "id": "f6cd02f5",
   "metadata": {},
   "outputs": [],
   "source": [
    "\n",
    "v_df.loc['policy_of_IPW_random_forest','DM_estimator']=dm.estimate_policy_value(reward=bdf_feedback_test[\"reward\"],\n",
    "                                  action=bdf_feedback_test[\"action\"],pscore=bdf_feedback_test[\"pscore\"],\n",
    "                                  action_dist=eval_policy_rf_dist,estimated_rewards_by_reg_model=estimated_rewards_by_reg_model)\n",
    "\n",
    "v_df.loc['policy_of_IPW_logistic_regression','DM_estimator']=dm.estimate_policy_value(reward=bdf_feedback_test[\"reward\"],\n",
    "                                  action=bdf_feedback_test[\"action\"],pscore=bdf_feedback_test[\"pscore\"],\n",
    "                                  action_dist=eval_policy_dist,estimated_rewards_by_reg_model=estimated_rewards_by_reg_model)\n",
    "\n",
    "v_df.loc['policy_of_DM','DM_estimator']=dm.estimate_policy_value(reward=bdf_feedback_test[\"reward\"],\n",
    "                                  action=bdf_feedback_test[\"action\"],pscore=bdf_feedback_test[\"pscore\"],\n",
    "                                  action_dist=qlearner_dist,estimated_rewards_by_reg_model=estimated_rewards_by_reg_model)\n",
    "\n",
    "v_df.loc['optimal_policy','DM_estimator']=dm.estimate_policy_value(reward=bdf_feedback_test[\"reward\"],\n",
    "                                  action=bdf_feedback_test[\"action\"],pscore=bdf_feedback_test[\"pscore\"],\n",
    "                                  action_dist=optimal_dist,estimated_rewards_by_reg_model=estimated_rewards_by_reg_model)\n",
    "v_df.loc['behavior_policy','DM_estimator']=dm.estimate_policy_value(reward=bdf_feedback_test[\"reward\"],\n",
    "                                  action=bdf_feedback_test[\"action\"],pscore=bdf_feedback_test[\"pscore\"],\n",
    "                                  action_dist=bdf_feedback_test[\"pi_b\"],estimated_rewards_by_reg_model=estimated_rewards_by_reg_model)\n",
    "\n"
   ]
  },
  {
   "cell_type": "code",
   "execution_count": 21,
   "id": "3b74f932",
   "metadata": {},
   "outputs": [],
   "source": [
    "\n",
    "v_df.loc['policy_of_IPW_random_forest','ground_truth']=np.average(bdf_feedback_test[\"expected_reward\"], weights=eval_policy_rf_dist[:, :, 0], axis=1).mean()\n",
    "v_df.loc['policy_of_IPW_logistic_regression','ground_truth']=np.average(bdf_feedback_test[\"expected_reward\"], weights=eval_policy_dist[:, :, 0], axis=1).mean()\n",
    "v_df.loc['policy_of_DM','ground_truth']=np.average(bdf_feedback_test[\"expected_reward\"], weights=qlearner_dist[:, :, 0], axis=1).mean()\n",
    "v_df.loc['optimal_policy','ground_truth']=np.average(bdf_feedback_test[\"expected_reward\"], weights=optimal_dist[:, :, 0], axis=1).mean()\n",
    "v_df.loc['behavior_policy','ground_truth']=np.average(bdf_feedback_test[\"expected_reward\"], weights=bdf_feedback_test[\"pi_b\"][:,:,0], axis=1).mean()\n"
   ]
  },
  {
   "cell_type": "code",
   "execution_count": 17,
   "id": "c194e43b",
   "metadata": {},
   "outputs": [],
   "source": [
    "v_df=pd.DataFrame(index=['policy_of_IPW_random_forest','policy_of_IPW_logistic_regression','policy_of_DM',\n",
    "                               'optimal_policy','behavior_policy'],columns=['IPW_estimator','DM_estimator','DR_estimator','ground_truth'])\n"
   ]
  },
  {
   "cell_type": "code",
   "execution_count": 20,
   "id": "81c817ef",
   "metadata": {},
   "outputs": [],
   "source": [
    "import pickle \n",
    "\n",
    "with open('v_df.pkl', 'wb') as f:\n",
    "    pickle.dump(v_df, f)"
   ]
  },
  {
   "cell_type": "code",
   "execution_count": 25,
   "id": "075beca2",
   "metadata": {},
   "outputs": [],
   "source": [
    "k_good=pd.DataFrame(index=['IPW', 'Optimal','Behavior','ground_truth'],columns=['0.1', '0.4', '0.7', '1.', '1.3'])"
   ]
  },
  {
   "cell_type": "code",
   "execution_count": 34,
   "id": "9958eb84",
   "metadata": {},
   "outputs": [
    {
     "name": "stderr",
     "output_type": "stream",
     "text": [
      "/opt/homebrew/anaconda3/envs/newenv/lib/python3.9/site-packages/sklearn/linear_model/_logistic.py:458: ConvergenceWarning: lbfgs failed to converge (status=1):\n",
      "STOP: TOTAL NO. of ITERATIONS REACHED LIMIT.\n",
      "\n",
      "Increase the number of iterations (max_iter) or scale the data as shown in:\n",
      "    https://scikit-learn.org/stable/modules/preprocessing.html\n",
      "Please also refer to the documentation for alternative solver options:\n",
      "    https://scikit-learn.org/stable/modules/linear_model.html#logistic-regression\n",
      "  n_iter_i = _check_optimize_result(\n",
      "/opt/homebrew/anaconda3/envs/newenv/lib/python3.9/site-packages/sklearn/linear_model/_logistic.py:458: ConvergenceWarning: lbfgs failed to converge (status=1):\n",
      "STOP: TOTAL NO. of ITERATIONS REACHED LIMIT.\n",
      "\n",
      "Increase the number of iterations (max_iter) or scale the data as shown in:\n",
      "    https://scikit-learn.org/stable/modules/preprocessing.html\n",
      "Please also refer to the documentation for alternative solver options:\n",
      "    https://scikit-learn.org/stable/modules/linear_model.html#logistic-regression\n",
      "  n_iter_i = _check_optimize_result(\n",
      "/opt/homebrew/anaconda3/envs/newenv/lib/python3.9/site-packages/sklearn/linear_model/_logistic.py:458: ConvergenceWarning: lbfgs failed to converge (status=1):\n",
      "STOP: TOTAL NO. of ITERATIONS REACHED LIMIT.\n",
      "\n",
      "Increase the number of iterations (max_iter) or scale the data as shown in:\n",
      "    https://scikit-learn.org/stable/modules/preprocessing.html\n",
      "Please also refer to the documentation for alternative solver options:\n",
      "    https://scikit-learn.org/stable/modules/linear_model.html#logistic-regression\n",
      "  n_iter_i = _check_optimize_result(\n",
      "/opt/homebrew/anaconda3/envs/newenv/lib/python3.9/site-packages/sklearn/linear_model/_logistic.py:458: ConvergenceWarning: lbfgs failed to converge (status=1):\n",
      "STOP: TOTAL NO. of ITERATIONS REACHED LIMIT.\n",
      "\n",
      "Increase the number of iterations (max_iter) or scale the data as shown in:\n",
      "    https://scikit-learn.org/stable/modules/preprocessing.html\n",
      "Please also refer to the documentation for alternative solver options:\n",
      "    https://scikit-learn.org/stable/modules/linear_model.html#logistic-regression\n",
      "  n_iter_i = _check_optimize_result(\n"
     ]
    }
   ],
   "source": [
    "\n",
    "eval_policy_01 = IPWLearner(n_actions=85, base_classifier=LogisticRegression())\n",
    "eval_policy_04= IPWLearner(n_actions=85, base_classifier=LogisticRegression())\n",
    "eval_policy_07= IPWLearner(n_actions=85, base_classifier=LogisticRegression())\n",
    "eval_policy_1= IPWLearner(n_actions=85, base_classifier=LogisticRegression())\n",
    "eval_policy_13= IPWLearner(n_actions=85, base_classifier=LogisticRegression())\n",
    "\n",
    "eval_policy_01.fit(\n",
    "    context=bdf_feedback_train_k[0.1][\"context\"],\n",
    "    action=bdf_feedback_train_k[0.1][\"action\"],\n",
    "    reward=bdf_feedback_train_k[0.1][\"reward\"],\n",
    "    pscore=bdf_feedback_train_k[0.1][\"pscore\"]\n",
    ")\n",
    "\n",
    "eval_policy_04.fit(\n",
    "    context=bdf_feedback_train_k[0.4][\"context\"],\n",
    "    action=bdf_feedback_train_k[0.4][\"action\"],\n",
    "    reward=bdf_feedback_train_k[0.4][\"reward\"],\n",
    "    pscore=bdf_feedback_train_k[0.4][\"pscore\"]\n",
    ")\n",
    "\n",
    "eval_policy_07.fit(\n",
    "    context=bdf_feedback_train_k[0.7][\"context\"],\n",
    "    action=bdf_feedback_train_k[0.7][\"action\"],\n",
    "    reward=bdf_feedback_train_k[0.7][\"reward\"],\n",
    "    pscore=bdf_feedback_train_k[0.7][\"pscore\"]\n",
    ")\n",
    "eval_policy_1.fit(\n",
    "    context=bdf_feedback_train_k[1][\"context\"],\n",
    "    action=bdf_feedback_train_k[1][\"action\"],\n",
    "    reward=bdf_feedback_train_k[1][\"reward\"],\n",
    "    pscore=bdf_feedback_train_k[1][\"pscore\"]\n",
    ")\n",
    "eval_policy_13.fit(\n",
    "    context=bdf_feedback_train_k[1.3][\"context\"],\n",
    "    action=bdf_feedback_train_k[1.3][\"action\"],\n",
    "    reward=bdf_feedback_train_k[1.3][\"reward\"],\n",
    "    pscore=bdf_feedback_train_k[1.3][\"pscore\"]\n",
    ")\n",
    "eval_policy_dist_01=eval_policy_01.predict(bdf_feedback_test_k[0.1][\"context\"])\n",
    "eval_policy_dist_04=eval_policy_04.predict(bdf_feedback_test_k[0.4][\"context\"])\n",
    "eval_policy_dist_07=eval_policy_07.predict(bdf_feedback_test_k[0.7][\"context\"])\n",
    "eval_policy_dist_1=eval_policy_1.predict(bdf_feedback_test_k[1][\"context\"])\n",
    "eval_policy_dist_13=eval_policy_13.predict(bdf_feedback_test_k[1.3][\"context\"])\n",
    "ipw=IPW()\n",
    "\n",
    "k_good.loc['IPW','0.1']=ipw.estimate_policy_value(reward=bdf_feedback_test_k[0.1][\"reward\"],\n",
    "                                  action=bdf_feedback_test_k[0.1][\"action\"],pscore=bdf_feedback_test_k[0.1][\"pscore\"],\n",
    "                                  action_dist=eval_policy_dist_01)\n",
    "k_good.loc['IPW','0.4']=ipw.estimate_policy_value(reward=bdf_feedback_test_k[0.4][\"reward\"],\n",
    "                                  action=bdf_feedback_test_k[0.4][\"action\"],pscore=bdf_feedback_test_k[0.4][\"pscore\"],\n",
    "                                  action_dist=eval_policy_dist_04)\n",
    "k_good.loc['IPW','0.7']=ipw.estimate_policy_value(reward=bdf_feedback_test_k[0.7][\"reward\"],\n",
    "                                  action=bdf_feedback_test_k[0.7][\"action\"],pscore=bdf_feedback_test_k[0.7][\"pscore\"],\n",
    "                                  action_dist=eval_policy_dist_07)\n",
    "k_good.loc['IPW','1.']=ipw.estimate_policy_value(reward=bdf_feedback_test_k[1][\"reward\"],\n",
    "                                  action=bdf_feedback_test_k[1][\"action\"],pscore=bdf_feedback_test_k[1][\"pscore\"],\n",
    "                                  action_dist=eval_policy_dist_1)\n",
    "k_good.loc['IPW','1.3']=ipw.estimate_policy_value(reward=bdf_feedback_test_k[1.3][\"reward\"],\n",
    "                                  action=bdf_feedback_test_k[1.3][\"action\"],pscore=bdf_feedback_test_k[1.3][\"pscore\"],\n",
    "                                  action_dist=eval_policy_dist_13)\n",
    "k_good.loc['ground_truth','0.1']=np.average(bdf_feedback_test_k[0.1][\"expected_reward\"], weights=eval_policy_dist_01[:, :, 0], axis=1).mean()\n",
    "k_good.loc['ground_truth','0.4']=np.average(bdf_feedback_test_k[0.4][\"expected_reward\"], weights=eval_policy_dist_04[:, :, 0], axis=1).mean()\n",
    "k_good.loc['ground_truth','0.7']=np.average(bdf_feedback_test_k[0.7][\"expected_reward\"], weights=eval_policy_dist_07[:, :, 0], axis=1).mean()\n",
    "k_good.loc['ground_truth','1.']=np.average(bdf_feedback_test_k[1][\"expected_reward\"], weights=eval_policy_dist_1[:, :, 0], axis=1).mean()\n",
    "k_good.loc['ground_truth','1.3']=np.average(bdf_feedback_test_k[1.3][\"expected_reward\"], weights=eval_policy_dist_13[:, :, 0], axis=1).mean()\n"
   ]
  },
  {
   "cell_type": "code",
   "execution_count": 35,
   "id": "5a1ca35d",
   "metadata": {},
   "outputs": [
    {
     "data": {
      "text/html": [
       "<div>\n",
       "<style scoped>\n",
       "    .dataframe tbody tr th:only-of-type {\n",
       "        vertical-align: middle;\n",
       "    }\n",
       "\n",
       "    .dataframe tbody tr th {\n",
       "        vertical-align: top;\n",
       "    }\n",
       "\n",
       "    .dataframe thead th {\n",
       "        text-align: right;\n",
       "    }\n",
       "</style>\n",
       "<table border=\"1\" class=\"dataframe\">\n",
       "  <thead>\n",
       "    <tr style=\"text-align: right;\">\n",
       "      <th></th>\n",
       "      <th>ground truth</th>\n",
       "      <th>0.1</th>\n",
       "      <th>0.4</th>\n",
       "      <th>0.7</th>\n",
       "      <th>1.</th>\n",
       "      <th>1.3</th>\n",
       "    </tr>\n",
       "  </thead>\n",
       "  <tbody>\n",
       "    <tr>\n",
       "      <th>IPW</th>\n",
       "      <td>NaN</td>\n",
       "      <td>0.0</td>\n",
       "      <td>5.49503</td>\n",
       "      <td>5.526629</td>\n",
       "      <td>5.444358</td>\n",
       "      <td>5.353072</td>\n",
       "    </tr>\n",
       "    <tr>\n",
       "      <th>Optimal</th>\n",
       "      <td>NaN</td>\n",
       "      <td>NaN</td>\n",
       "      <td>NaN</td>\n",
       "      <td>NaN</td>\n",
       "      <td>NaN</td>\n",
       "      <td>NaN</td>\n",
       "    </tr>\n",
       "    <tr>\n",
       "      <th>Behavior</th>\n",
       "      <td>NaN</td>\n",
       "      <td>NaN</td>\n",
       "      <td>NaN</td>\n",
       "      <td>NaN</td>\n",
       "      <td>NaN</td>\n",
       "      <td>NaN</td>\n",
       "    </tr>\n",
       "    <tr>\n",
       "      <th>ground_truth</th>\n",
       "      <td>NaN</td>\n",
       "      <td>0.0</td>\n",
       "      <td>0.296942</td>\n",
       "      <td>0.412947</td>\n",
       "      <td>0.52071</td>\n",
       "      <td>0.581218</td>\n",
       "    </tr>\n",
       "  </tbody>\n",
       "</table>\n",
       "</div>"
      ],
      "text/plain": [
       "             ground truth  0.1       0.4       0.7        1.       1.3\n",
       "IPW                   NaN  0.0   5.49503  5.526629  5.444358  5.353072\n",
       "Optimal               NaN  NaN       NaN       NaN       NaN       NaN\n",
       "Behavior              NaN  NaN       NaN       NaN       NaN       NaN\n",
       "ground_truth          NaN  0.0  0.296942  0.412947   0.52071  0.581218"
      ]
     },
     "execution_count": 35,
     "metadata": {},
     "output_type": "execute_result"
    }
   ],
   "source": [
    "k_good"
   ]
  },
  {
   "cell_type": "code",
   "execution_count": 23,
   "id": "f4a47658",
   "metadata": {},
   "outputs": [],
   "source": [
    "a=ipw._estimate_round_rewards(reward=bdf_feedback_test[\"reward\"],\n",
    "                                  action=bdf_feedback_test[\"action\"],pscore=bdf_feedback_test[\"pscore\"],\n",
    "                                  action_dist=eval_policy_dist)"
   ]
  },
  {
   "cell_type": "code",
   "execution_count": 24,
   "id": "fb497c83",
   "metadata": {},
   "outputs": [
    {
     "data": {
      "text/plain": [
       "array([  0.        , 104.26213919,  46.0971604 , ...,   0.        ,\n",
       "         0.        ,   0.        ])"
      ]
     },
     "execution_count": 24,
     "metadata": {},
     "output_type": "execute_result"
    }
   ],
   "source": []
  },
  {
   "cell_type": "markdown",
   "id": "5e03ec5c",
   "metadata": {},
   "source": [
    "We're looking for a way to visualize the estimated reward from the regression model to see how it compares with the real expected reward"
   ]
  },
  {
   "cell_type": "code",
   "execution_count": 28,
   "id": "d5566ff6",
   "metadata": {},
   "outputs": [],
   "source": [
    "gamma=bdf_feedback_test[\"context\"].reshape(-1,)\n",
    "\n"
   ]
  },
  {
   "cell_type": "code",
   "execution_count": 29,
   "id": "dbb99aa2",
   "metadata": {},
   "outputs": [
    {
     "data": {
      "text/plain": [
       "array([-7. , -6.8, -6.6, ...,  5.2,  5.4,  5.4])"
      ]
     },
     "execution_count": 29,
     "metadata": {},
     "output_type": "execute_result"
    }
   ],
   "source": [
    "np.sort(gamma)"
   ]
  },
  {
   "cell_type": "code",
   "execution_count": 28,
   "id": "d774f10d",
   "metadata": {},
   "outputs": [],
   "source": [
    "estim=regression_model.fit_predict(\n",
    "    context=bdf_feedback_train[\"context\"],\n",
    "    action=bdf_feedback_train[\"action\"],\n",
    "    reward=bdf_feedback_train[\"reward\"],\n",
    ")"
   ]
  },
  {
   "cell_type": "code",
   "execution_count": 34,
   "id": "6f535bae",
   "metadata": {},
   "outputs": [],
   "source": [
    "import seaborn as sns"
   ]
  },
  {
   "cell_type": "code",
   "execution_count": 30,
   "id": "cc8b58b7",
   "metadata": {},
   "outputs": [],
   "source": [
    "qzzz=pd.Series(gamma).drop_duplicates().sort_values().index.values\n",
    "\n",
    "\n"
   ]
  },
  {
   "cell_type": "code",
   "execution_count": 32,
   "id": "7999acef",
   "metadata": {},
   "outputs": [],
   "source": [
    "ws=pd.DataFrame(index=pd.Series(gamma).drop_duplicates().sort_values().values,data=estimated_rewards_by_reg_model[:,:,0][qzzz,:],columns=np.arange(1,86))"
   ]
  },
  {
   "cell_type": "code",
   "execution_count": 35,
   "id": "5d104592",
   "metadata": {},
   "outputs": [
    {
     "data": {
      "text/plain": [
       "Text(50.722222222222214, 0.5, 'theta')"
      ]
     },
     "execution_count": 35,
     "metadata": {},
     "output_type": "execute_result"
    },
    {
     "data": {
      "image/png": "[encoded data removed]",
      "text/plain": [
       "<Figure size 640x480 with 2 Axes>"
      ]
     },
     "metadata": {},
     "output_type": "display_data"
    }
   ],
   "source": [
    "sns.heatmap(ws.astype(float))\n",
    "plt.title('estimated reward')\n",
    "plt.xlabel('problems ranked by difficulty')\n",
    "plt.ylabel('theta')\n"
   ]
  },
  {
   "cell_type": "code",
   "execution_count": 36,
   "id": "10fdda00",
   "metadata": {},
   "outputs": [],
   "source": [
    "\n",
    "prob_mat_dist=pd.DataFrame(index=pd.Series(gamma).drop_duplicates().sort_values().values,columns=np.arange(1,86))"
   ]
  },
  {
   "cell_type": "code",
   "execution_count": 40,
   "id": "9f8f5c9e",
   "metadata": {},
   "outputs": [
    {
     "data": {
      "text/html": [
       "<div>\n",
       "<style scoped>\n",
       "    .dataframe tbody tr th:only-of-type {\n",
       "        vertical-align: middle;\n",
       "    }\n",
       "\n",
       "    .dataframe tbody tr th {\n",
       "        vertical-align: top;\n",
       "    }\n",
       "\n",
       "    .dataframe thead th {\n",
       "        text-align: right;\n",
       "    }\n",
       "</style>\n",
       "<table border=\"1\" class=\"dataframe\">\n",
       "  <thead>\n",
       "    <tr style=\"text-align: right;\">\n",
       "      <th></th>\n",
       "      <th>1</th>\n",
       "      <th>2</th>\n",
       "      <th>3</th>\n",
       "      <th>4</th>\n",
       "      <th>5</th>\n",
       "      <th>6</th>\n",
       "      <th>7</th>\n",
       "      <th>8</th>\n",
       "      <th>9</th>\n",
       "      <th>10</th>\n",
       "      <th>...</th>\n",
       "      <th>76</th>\n",
       "      <th>77</th>\n",
       "      <th>78</th>\n",
       "      <th>79</th>\n",
       "      <th>80</th>\n",
       "      <th>81</th>\n",
       "      <th>82</th>\n",
       "      <th>83</th>\n",
       "      <th>84</th>\n",
       "      <th>85</th>\n",
       "    </tr>\n",
       "  </thead>\n",
       "  <tbody>\n",
       "    <tr>\n",
       "      <th>-7.0</th>\n",
       "      <td>NaN</td>\n",
       "      <td>NaN</td>\n",
       "      <td>NaN</td>\n",
       "      <td>NaN</td>\n",
       "      <td>NaN</td>\n",
       "      <td>NaN</td>\n",
       "      <td>NaN</td>\n",
       "      <td>NaN</td>\n",
       "      <td>NaN</td>\n",
       "      <td>NaN</td>\n",
       "      <td>...</td>\n",
       "      <td>NaN</td>\n",
       "      <td>NaN</td>\n",
       "      <td>NaN</td>\n",
       "      <td>NaN</td>\n",
       "      <td>NaN</td>\n",
       "      <td>NaN</td>\n",
       "      <td>NaN</td>\n",
       "      <td>NaN</td>\n",
       "      <td>NaN</td>\n",
       "      <td>NaN</td>\n",
       "    </tr>\n",
       "    <tr>\n",
       "      <th>-6.8</th>\n",
       "      <td>NaN</td>\n",
       "      <td>NaN</td>\n",
       "      <td>NaN</td>\n",
       "      <td>NaN</td>\n",
       "      <td>NaN</td>\n",
       "      <td>NaN</td>\n",
       "      <td>NaN</td>\n",
       "      <td>NaN</td>\n",
       "      <td>NaN</td>\n",
       "      <td>NaN</td>\n",
       "      <td>...</td>\n",
       "      <td>NaN</td>\n",
       "      <td>NaN</td>\n",
       "      <td>NaN</td>\n",
       "      <td>NaN</td>\n",
       "      <td>NaN</td>\n",
       "      <td>NaN</td>\n",
       "      <td>NaN</td>\n",
       "      <td>NaN</td>\n",
       "      <td>NaN</td>\n",
       "      <td>NaN</td>\n",
       "    </tr>\n",
       "    <tr>\n",
       "      <th>-6.6</th>\n",
       "      <td>NaN</td>\n",
       "      <td>NaN</td>\n",
       "      <td>NaN</td>\n",
       "      <td>NaN</td>\n",
       "      <td>NaN</td>\n",
       "      <td>NaN</td>\n",
       "      <td>NaN</td>\n",
       "      <td>NaN</td>\n",
       "      <td>NaN</td>\n",
       "      <td>NaN</td>\n",
       "      <td>...</td>\n",
       "      <td>NaN</td>\n",
       "      <td>NaN</td>\n",
       "      <td>NaN</td>\n",
       "      <td>NaN</td>\n",
       "      <td>NaN</td>\n",
       "      <td>NaN</td>\n",
       "      <td>NaN</td>\n",
       "      <td>NaN</td>\n",
       "      <td>NaN</td>\n",
       "      <td>NaN</td>\n",
       "    </tr>\n",
       "    <tr>\n",
       "      <th>-6.2</th>\n",
       "      <td>NaN</td>\n",
       "      <td>NaN</td>\n",
       "      <td>NaN</td>\n",
       "      <td>NaN</td>\n",
       "      <td>NaN</td>\n",
       "      <td>NaN</td>\n",
       "      <td>NaN</td>\n",
       "      <td>NaN</td>\n",
       "      <td>NaN</td>\n",
       "      <td>NaN</td>\n",
       "      <td>...</td>\n",
       "      <td>NaN</td>\n",
       "      <td>NaN</td>\n",
       "      <td>NaN</td>\n",
       "      <td>NaN</td>\n",
       "      <td>NaN</td>\n",
       "      <td>NaN</td>\n",
       "      <td>NaN</td>\n",
       "      <td>NaN</td>\n",
       "      <td>NaN</td>\n",
       "      <td>NaN</td>\n",
       "    </tr>\n",
       "    <tr>\n",
       "      <th>-6.0</th>\n",
       "      <td>NaN</td>\n",
       "      <td>NaN</td>\n",
       "      <td>NaN</td>\n",
       "      <td>NaN</td>\n",
       "      <td>NaN</td>\n",
       "      <td>NaN</td>\n",
       "      <td>NaN</td>\n",
       "      <td>NaN</td>\n",
       "      <td>NaN</td>\n",
       "      <td>NaN</td>\n",
       "      <td>...</td>\n",
       "      <td>NaN</td>\n",
       "      <td>NaN</td>\n",
       "      <td>NaN</td>\n",
       "      <td>NaN</td>\n",
       "      <td>NaN</td>\n",
       "      <td>NaN</td>\n",
       "      <td>NaN</td>\n",
       "      <td>NaN</td>\n",
       "      <td>NaN</td>\n",
       "      <td>NaN</td>\n",
       "    </tr>\n",
       "    <tr>\n",
       "      <th>...</th>\n",
       "      <td>...</td>\n",
       "      <td>...</td>\n",
       "      <td>...</td>\n",
       "      <td>...</td>\n",
       "      <td>...</td>\n",
       "      <td>...</td>\n",
       "      <td>...</td>\n",
       "      <td>...</td>\n",
       "      <td>...</td>\n",
       "      <td>...</td>\n",
       "      <td>...</td>\n",
       "      <td>...</td>\n",
       "      <td>...</td>\n",
       "      <td>...</td>\n",
       "      <td>...</td>\n",
       "      <td>...</td>\n",
       "      <td>...</td>\n",
       "      <td>...</td>\n",
       "      <td>...</td>\n",
       "      <td>...</td>\n",
       "      <td>...</td>\n",
       "    </tr>\n",
       "    <tr>\n",
       "      <th>4.6</th>\n",
       "      <td>NaN</td>\n",
       "      <td>NaN</td>\n",
       "      <td>NaN</td>\n",
       "      <td>NaN</td>\n",
       "      <td>NaN</td>\n",
       "      <td>NaN</td>\n",
       "      <td>NaN</td>\n",
       "      <td>NaN</td>\n",
       "      <td>NaN</td>\n",
       "      <td>NaN</td>\n",
       "      <td>...</td>\n",
       "      <td>NaN</td>\n",
       "      <td>NaN</td>\n",
       "      <td>NaN</td>\n",
       "      <td>NaN</td>\n",
       "      <td>NaN</td>\n",
       "      <td>NaN</td>\n",
       "      <td>NaN</td>\n",
       "      <td>NaN</td>\n",
       "      <td>NaN</td>\n",
       "      <td>NaN</td>\n",
       "    </tr>\n",
       "    <tr>\n",
       "      <th>4.8</th>\n",
       "      <td>NaN</td>\n",
       "      <td>NaN</td>\n",
       "      <td>NaN</td>\n",
       "      <td>NaN</td>\n",
       "      <td>NaN</td>\n",
       "      <td>NaN</td>\n",
       "      <td>NaN</td>\n",
       "      <td>NaN</td>\n",
       "      <td>NaN</td>\n",
       "      <td>NaN</td>\n",
       "      <td>...</td>\n",
       "      <td>NaN</td>\n",
       "      <td>NaN</td>\n",
       "      <td>NaN</td>\n",
       "      <td>NaN</td>\n",
       "      <td>NaN</td>\n",
       "      <td>NaN</td>\n",
       "      <td>NaN</td>\n",
       "      <td>NaN</td>\n",
       "      <td>NaN</td>\n",
       "      <td>NaN</td>\n",
       "    </tr>\n",
       "    <tr>\n",
       "      <th>5.0</th>\n",
       "      <td>NaN</td>\n",
       "      <td>NaN</td>\n",
       "      <td>NaN</td>\n",
       "      <td>NaN</td>\n",
       "      <td>NaN</td>\n",
       "      <td>NaN</td>\n",
       "      <td>NaN</td>\n",
       "      <td>NaN</td>\n",
       "      <td>NaN</td>\n",
       "      <td>NaN</td>\n",
       "      <td>...</td>\n",
       "      <td>NaN</td>\n",
       "      <td>NaN</td>\n",
       "      <td>NaN</td>\n",
       "      <td>NaN</td>\n",
       "      <td>NaN</td>\n",
       "      <td>NaN</td>\n",
       "      <td>NaN</td>\n",
       "      <td>NaN</td>\n",
       "      <td>NaN</td>\n",
       "      <td>NaN</td>\n",
       "    </tr>\n",
       "    <tr>\n",
       "      <th>5.2</th>\n",
       "      <td>NaN</td>\n",
       "      <td>NaN</td>\n",
       "      <td>NaN</td>\n",
       "      <td>NaN</td>\n",
       "      <td>NaN</td>\n",
       "      <td>NaN</td>\n",
       "      <td>NaN</td>\n",
       "      <td>NaN</td>\n",
       "      <td>NaN</td>\n",
       "      <td>NaN</td>\n",
       "      <td>...</td>\n",
       "      <td>NaN</td>\n",
       "      <td>NaN</td>\n",
       "      <td>NaN</td>\n",
       "      <td>NaN</td>\n",
       "      <td>NaN</td>\n",
       "      <td>NaN</td>\n",
       "      <td>NaN</td>\n",
       "      <td>NaN</td>\n",
       "      <td>NaN</td>\n",
       "      <td>NaN</td>\n",
       "    </tr>\n",
       "    <tr>\n",
       "      <th>5.4</th>\n",
       "      <td>NaN</td>\n",
       "      <td>NaN</td>\n",
       "      <td>NaN</td>\n",
       "      <td>NaN</td>\n",
       "      <td>NaN</td>\n",
       "      <td>NaN</td>\n",
       "      <td>NaN</td>\n",
       "      <td>NaN</td>\n",
       "      <td>NaN</td>\n",
       "      <td>NaN</td>\n",
       "      <td>...</td>\n",
       "      <td>NaN</td>\n",
       "      <td>NaN</td>\n",
       "      <td>NaN</td>\n",
       "      <td>NaN</td>\n",
       "      <td>NaN</td>\n",
       "      <td>NaN</td>\n",
       "      <td>NaN</td>\n",
       "      <td>NaN</td>\n",
       "      <td>NaN</td>\n",
       "      <td>NaN</td>\n",
       "    </tr>\n",
       "  </tbody>\n",
       "</table>\n",
       "<p>61 rows × 85 columns</p>\n",
       "</div>"
      ],
      "text/plain": [
       "       1    2    3    4    5    6    7    8    9    10  ...   76   77   78  \\\n",
       "-7.0  NaN  NaN  NaN  NaN  NaN  NaN  NaN  NaN  NaN  NaN  ...  NaN  NaN  NaN   \n",
       "-6.8  NaN  NaN  NaN  NaN  NaN  NaN  NaN  NaN  NaN  NaN  ...  NaN  NaN  NaN   \n",
       "-6.6  NaN  NaN  NaN  NaN  NaN  NaN  NaN  NaN  NaN  NaN  ...  NaN  NaN  NaN   \n",
       "-6.2  NaN  NaN  NaN  NaN  NaN  NaN  NaN  NaN  NaN  NaN  ...  NaN  NaN  NaN   \n",
       "-6.0  NaN  NaN  NaN  NaN  NaN  NaN  NaN  NaN  NaN  NaN  ...  NaN  NaN  NaN   \n",
       "...   ...  ...  ...  ...  ...  ...  ...  ...  ...  ...  ...  ...  ...  ...   \n",
       " 4.6  NaN  NaN  NaN  NaN  NaN  NaN  NaN  NaN  NaN  NaN  ...  NaN  NaN  NaN   \n",
       " 4.8  NaN  NaN  NaN  NaN  NaN  NaN  NaN  NaN  NaN  NaN  ...  NaN  NaN  NaN   \n",
       " 5.0  NaN  NaN  NaN  NaN  NaN  NaN  NaN  NaN  NaN  NaN  ...  NaN  NaN  NaN   \n",
       " 5.2  NaN  NaN  NaN  NaN  NaN  NaN  NaN  NaN  NaN  NaN  ...  NaN  NaN  NaN   \n",
       " 5.4  NaN  NaN  NaN  NaN  NaN  NaN  NaN  NaN  NaN  NaN  ...  NaN  NaN  NaN   \n",
       "\n",
       "       79   80   81   82   83   84   85  \n",
       "-7.0  NaN  NaN  NaN  NaN  NaN  NaN  NaN  \n",
       "-6.8  NaN  NaN  NaN  NaN  NaN  NaN  NaN  \n",
       "-6.6  NaN  NaN  NaN  NaN  NaN  NaN  NaN  \n",
       "-6.2  NaN  NaN  NaN  NaN  NaN  NaN  NaN  \n",
       "-6.0  NaN  NaN  NaN  NaN  NaN  NaN  NaN  \n",
       "...   ...  ...  ...  ...  ...  ...  ...  \n",
       " 4.6  NaN  NaN  NaN  NaN  NaN  NaN  NaN  \n",
       " 4.8  NaN  NaN  NaN  NaN  NaN  NaN  NaN  \n",
       " 5.0  NaN  NaN  NaN  NaN  NaN  NaN  NaN  \n",
       " 5.2  NaN  NaN  NaN  NaN  NaN  NaN  NaN  \n",
       " 5.4  NaN  NaN  NaN  NaN  NaN  NaN  NaN  \n",
       "\n",
       "[61 rows x 85 columns]"
      ]
     },
     "execution_count": 40,
     "metadata": {},
     "output_type": "execute_result"
    }
   ],
   "source": [
    "prob_mat_dist"
   ]
  },
  {
   "cell_type": "code",
   "execution_count": 39,
   "id": "cb1164bb",
   "metadata": {},
   "outputs": [
    {
     "data": {
      "text/plain": [
       "94318"
      ]
     },
     "execution_count": 39,
     "metadata": {},
     "output_type": "execute_result"
    }
   ],
   "source": [
    "len(bdf_feedback_test['context'])\n",
    "qlearner_dist=qlearner.predict(bdf_feedback_test[\"context\"])\n",
    "eval_policy_dist=eval_policy.predict(bdf_feedback_test[\"context\"])\n",
    "eval_policy_rf_dist=eval_policy_rf.predict(bdf_feedback_test[\"context\"])\n",
    "optimal_dist=ac_opt\n"
   ]
  },
  {
   "cell_type": "code",
   "execution_count": 42,
   "id": "d73c240e",
   "metadata": {},
   "outputs": [
    {
     "data": {
      "text/plain": [
       "(94318, 85, 1)"
      ]
     },
     "execution_count": 42,
     "metadata": {},
     "output_type": "execute_result"
    }
   ],
   "source": [
    "eval_policy_rf_dist.shape"
   ]
  },
  {
   "cell_type": "markdown",
   "id": "b428184c",
   "metadata": {},
   "source": [
    "We're visualizing how the new found policy looks"
   ]
  },
  {
   "cell_type": "code",
   "execution_count": 54,
   "id": "db4e4161",
   "metadata": {},
   "outputs": [],
   "source": [
    "prob_mat_dist.loc[:,:]=optimal_dist.reshape(len(bdf_feedback_test['context']), 85)[qzzz]"
   ]
  },
  {
   "cell_type": "code",
   "execution_count": 55,
   "id": "d5822462",
   "metadata": {},
   "outputs": [
    {
     "data": {
      "text/plain": [
       "Text(0.5, 23.52222222222222, 'problems')"
      ]
     },
     "execution_count": 55,
     "metadata": {},
     "output_type": "execute_result"
    },
    {
     "data": {
      "image/png": "[encoded data removed]",
      "text/plain": [
       "<Figure size 640x480 with 2 Axes>"
      ]
     },
     "metadata": {},
     "output_type": "display_data"
    }
   ],
   "source": [
    "sns.heatmap(prob_mat_dist.astype(float),cmap='cool')\n",
    "plt.title('Optimal Policy')\n",
    "plt.ylabel('theta')\n",
    "plt.xlabel('problems')\n"
   ]
  },
  {
   "cell_type": "markdown",
   "id": "7e230bb9",
   "metadata": {},
   "source": [
    "same process but with a new classifier for IPW in policy learning"
   ]
  },
  {
   "cell_type": "code",
   "execution_count": 36,
   "id": "7b79b06b",
   "metadata": {},
   "outputs": [],
   "source": [
    "with open('empire_proba_real_train.pkl', 'rb') as f:\n",
    "    empire_proba_real_train = pickle.load(f)\n",
    "    "
   ]
  },
  {
   "cell_type": "code",
   "execution_count": 37,
   "id": "aa519546",
   "metadata": {},
   "outputs": [],
   "source": [
    "qa=bdf_feedback_test['expected_reward'][pd.Series(gamma).drop_duplicates().sort_values().index.values,:].argmax(axis=1)+1\n"
   ]
  },
  {
   "cell_type": "code",
   "execution_count": null,
   "id": "5dd611b1",
   "metadata": {},
   "outputs": [],
   "source": []
  },
  {
   "cell_type": "code",
   "execution_count": 38,
   "id": "e5cada0a",
   "metadata": {},
   "outputs": [],
   "source": [
    "mat_opt=pd.DataFrame(index=pd.Series(gamma).drop_duplicates().sort_values(),columns=np.arange(1,113))"
   ]
  },
  {
   "cell_type": "code",
   "execution_count": 39,
   "id": "26b818e8",
   "metadata": {},
   "outputs": [],
   "source": [
    "mat_opt.loc[:,:]=0"
   ]
  },
  {
   "cell_type": "code",
   "execution_count": 40,
   "id": "7302c7aa",
   "metadata": {},
   "outputs": [],
   "source": [
    "for j in range(len(qa)):\n",
    "    \n",
    "    \n",
    "    mat_opt.loc[mat_opt.index.values[j],qa[j]]=1\n",
    "        "
   ]
  },
  {
   "cell_type": "code",
   "execution_count": 41,
   "id": "98de3cb1",
   "metadata": {},
   "outputs": [
    {
     "data": {
      "text/plain": [
       "Text(0.5, 23.52222222222222, 'skill')"
      ]
     },
     "execution_count": 41,
     "metadata": {},
     "output_type": "execute_result"
    },
    {
     "data": {
      "image/png": "[encoded data removed]",
      "text/plain": [
       "<Figure size 640x480 with 2 Axes>"
      ]
     },
     "metadata": {},
     "output_type": "display_data"
    }
   ],
   "source": [
    "sns.heatmap(mat_opt.astype(float),cmap='cool')\n",
    "plt.title('True optimal policy')\n",
    "plt.ylabel('theta')\n",
    "plt.xlabel('skill')\n"
   ]
  },
  {
   "cell_type": "markdown",
   "id": "19c1e254",
   "metadata": {},
   "source": [
    "We can calculate the real value of our policy and see how it compares with our estimation"
   ]
  },
  {
   "cell_type": "code",
   "execution_count": 56,
   "id": "7411b78c",
   "metadata": {},
   "outputs": [],
   "source": [
    "policy_value_of_ipw=np.average(bdf_feedback_test[\"expected_reward\"], weights=eval_policy_dist[:, :, 0], axis=1).mean()\n"
   ]
  },
  {
   "cell_type": "code",
   "execution_count": 61,
   "id": "ae656727",
   "metadata": {},
   "outputs": [],
   "source": [
    " squared_errors = ope.evaluate_performance_of_estimators(\n",
    "            ground_truth_policy_value=policy_value_of_ipw, # V(\\pi_e)\n",
    "            action_dist=eval_policy_dist, # \\pi_e(a|x)\n",
    "            estimated_rewards_by_reg_model=estimated_rewards_by_reg_model, # \\hat{q}(x,a)\n",
    "            metric=\"se\", # squared error\n",
    "        )"
   ]
  },
  {
   "cell_type": "code",
   "execution_count": 62,
   "id": "d1841ef3",
   "metadata": {},
   "outputs": [
    {
     "data": {
      "text/plain": [
       "{'ipw': 42.456893745384235, 'dm': 44.71629932803568, 'dr': 44.24216234929811}"
      ]
     },
     "execution_count": 62,
     "metadata": {},
     "output_type": "execute_result"
    }
   ],
   "source": [
    "squared_errors"
   ]
  },
  {
   "cell_type": "code",
   "execution_count": 63,
   "id": "5dd1e47c",
   "metadata": {},
   "outputs": [],
   "source": [
    "  from obp.ope import KernelizedInverseProbabilityWeighting"
   ]
  },
  {
   "cell_type": "code",
   "execution_count": 72,
   "id": "0acf8301",
   "metadata": {},
   "outputs": [],
   "source": [
    "kipw=KernelizedInverseProbabilityWeighting(kernel='gaussian',bandwidth=3.0)"
   ]
  },
  {
   "cell_type": "code",
   "execution_count": 75,
   "id": "847975eb",
   "metadata": {},
   "outputs": [
    {
     "data": {
      "text/plain": [
       "4.599084886712872"
      ]
     },
     "execution_count": 75,
     "metadata": {},
     "output_type": "execute_result"
    }
   ],
   "source": [
    "kipw.estimate_policy_value(reward=bdf_feedback_test[\"reward\"],\n",
    "                                  action_by_behavior_policy=bdf_feedback_test[\"action\"],pscore=bdf_feedback_test[\"pscore\"],\n",
    "                                  action_by_evaluation_policy=eval_policy_rf_dist.argmax(1).reshape(len(bdf_feedback_test['context']),).astype(float))"
   ]
  },
  {
   "cell_type": "code",
   "execution_count": 70,
   "id": "213e3477",
   "metadata": {},
   "outputs": [
    {
     "data": {
      "text/plain": [
       "array([84, 84, 83, ..., 81, 84, 84])"
      ]
     },
     "execution_count": 70,
     "metadata": {},
     "output_type": "execute_result"
    }
   ],
   "source": []
  },
  {
   "cell_type": "code",
   "execution_count": 68,
   "id": "3305fe3a",
   "metadata": {},
   "outputs": [
    {
     "data": {
      "text/plain": [
       "0"
      ]
     },
     "execution_count": 68,
     "metadata": {},
     "output_type": "execute_result"
    }
   ],
   "source": []
  },
  {
   "cell_type": "code",
   "execution_count": null,
   "id": "e7a3727d",
   "metadata": {},
   "outputs": [],
   "source": []
  }
 ],
 "metadata": {
  "kernelspec": {
   "display_name": "newenv",
   "language": "python",
   "name": "newenv"
  },
  "language_info": {
   "codemirror_mode": {
    "name": "ipython",
    "version": 3
   },
   "file_extension": ".py",
   "mimetype": "text/x-python",
   "name": "python",
   "nbconvert_exporter": "python",
   "pygments_lexer": "ipython3",
   "version": "3.9.16"
  }
 },
 "nbformat": 4,
 "nbformat_minor": 5
}
