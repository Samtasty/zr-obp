{
 "cells": [
  {
   "cell_type": "code",
   "execution_count": 1,
   "id": "7f12f5cb",
   "metadata": {},
   "outputs": [],
   "source": [
    "import numpy as np\n",
    "import matplotlib.pyplot as plt\n",
    "import pandas as pd\n"
   ]
  },
  {
   "cell_type": "code",
   "execution_count": 50,
   "id": "fd0444ca",
   "metadata": {},
   "outputs": [],
   "source": [
    "dt=pd.read_csv('data.csv')"
   ]
  },
  {
   "cell_type": "code",
   "execution_count": 51,
   "id": "3271fea9",
   "metadata": {},
   "outputs": [
    {
     "name": "stderr",
     "output_type": "stream",
     "text": [
      "/opt/homebrew/anaconda3/envs/newenv/lib/python3.9/site-packages/sklearn/linear_model/_logistic.py:458: ConvergenceWarning: lbfgs failed to converge (status=1):\n",
      "STOP: TOTAL NO. of ITERATIONS REACHED LIMIT.\n",
      "\n",
      "Increase the number of iterations (max_iter) or scale the data as shown in:\n",
      "    https://scikit-learn.org/stable/modules/preprocessing.html\n",
      "Please also refer to the documentation for alternative solver options:\n",
      "    https://scikit-learn.org/stable/modules/linear_model.html#logistic-regression\n",
      "  n_iter_i = _check_optimize_result(\n"
     ]
    },
    {
     "data": {
      "text/html": [
       "<style>#sk-container-id-4 {color: black;background-color: white;}#sk-container-id-4 pre{padding: 0;}#sk-container-id-4 div.sk-toggleable {background-color: white;}#sk-container-id-4 label.sk-toggleable__label {cursor: pointer;display: block;width: 100%;margin-bottom: 0;padding: 0.3em;box-sizing: border-box;text-align: center;}#sk-container-id-4 label.sk-toggleable__label-arrow:before {content: \"▸\";float: left;margin-right: 0.25em;color: #696969;}#sk-container-id-4 label.sk-toggleable__label-arrow:hover:before {color: black;}#sk-container-id-4 div.sk-estimator:hover label.sk-toggleable__label-arrow:before {color: black;}#sk-container-id-4 div.sk-toggleable__content {max-height: 0;max-width: 0;overflow: hidden;text-align: left;background-color: #f0f8ff;}#sk-container-id-4 div.sk-toggleable__content pre {margin: 0.2em;color: black;border-radius: 0.25em;background-color: #f0f8ff;}#sk-container-id-4 input.sk-toggleable__control:checked~div.sk-toggleable__content {max-height: 200px;max-width: 100%;overflow: auto;}#sk-container-id-4 input.sk-toggleable__control:checked~label.sk-toggleable__label-arrow:before {content: \"▾\";}#sk-container-id-4 div.sk-estimator input.sk-toggleable__control:checked~label.sk-toggleable__label {background-color: #d4ebff;}#sk-container-id-4 div.sk-label input.sk-toggleable__control:checked~label.sk-toggleable__label {background-color: #d4ebff;}#sk-container-id-4 input.sk-hidden--visually {border: 0;clip: rect(1px 1px 1px 1px);clip: rect(1px, 1px, 1px, 1px);height: 1px;margin: -1px;overflow: hidden;padding: 0;position: absolute;width: 1px;}#sk-container-id-4 div.sk-estimator {font-family: monospace;background-color: #f0f8ff;border: 1px dotted black;border-radius: 0.25em;box-sizing: border-box;margin-bottom: 0.5em;}#sk-container-id-4 div.sk-estimator:hover {background-color: #d4ebff;}#sk-container-id-4 div.sk-parallel-item::after {content: \"\";width: 100%;border-bottom: 1px solid gray;flex-grow: 1;}#sk-container-id-4 div.sk-label:hover label.sk-toggleable__label {background-color: #d4ebff;}#sk-container-id-4 div.sk-serial::before {content: \"\";position: absolute;border-left: 1px solid gray;box-sizing: border-box;top: 0;bottom: 0;left: 50%;z-index: 0;}#sk-container-id-4 div.sk-serial {display: flex;flex-direction: column;align-items: center;background-color: white;padding-right: 0.2em;padding-left: 0.2em;position: relative;}#sk-container-id-4 div.sk-item {position: relative;z-index: 1;}#sk-container-id-4 div.sk-parallel {display: flex;align-items: stretch;justify-content: center;background-color: white;position: relative;}#sk-container-id-4 div.sk-item::before, #sk-container-id-4 div.sk-parallel-item::before {content: \"\";position: absolute;border-left: 1px solid gray;box-sizing: border-box;top: 0;bottom: 0;left: 50%;z-index: -1;}#sk-container-id-4 div.sk-parallel-item {display: flex;flex-direction: column;z-index: 1;position: relative;background-color: white;}#sk-container-id-4 div.sk-parallel-item:first-child::after {align-self: flex-end;width: 50%;}#sk-container-id-4 div.sk-parallel-item:last-child::after {align-self: flex-start;width: 50%;}#sk-container-id-4 div.sk-parallel-item:only-child::after {width: 0;}#sk-container-id-4 div.sk-dashed-wrapped {border: 1px dashed gray;margin: 0 0.4em 0.5em 0.4em;box-sizing: border-box;padding-bottom: 0.4em;background-color: white;}#sk-container-id-4 div.sk-label label {font-family: monospace;font-weight: bold;display: inline-block;line-height: 1.2em;}#sk-container-id-4 div.sk-label-container {text-align: center;}#sk-container-id-4 div.sk-container {/* jupyter's `normalize.less` sets `[hidden] { display: none; }` but bootstrap.min.css set `[hidden] { display: none !important; }` so we also need the `!important` here to be able to override the default hidden behavior on the sphinx rendered scikit-learn.org. See: https://github.com/scikit-learn/scikit-learn/issues/21755 */display: inline-block !important;position: relative;}#sk-container-id-4 div.sk-text-repr-fallback {display: none;}</style><div id=\"sk-container-id-4\" class=\"sk-top-container\"><div class=\"sk-text-repr-fallback\"><pre>Pipeline(steps=[(&#x27;onehot&#x27;, OneHotEncoder()), (&#x27;lr&#x27;, LogisticRegression())])</pre><b>In a Jupyter environment, please rerun this cell to show the HTML representation or trust the notebook. <br />On GitHub, the HTML representation is unable to render, please try loading this page with nbviewer.org.</b></div><div class=\"sk-container\" hidden><div class=\"sk-item sk-dashed-wrapped\"><div class=\"sk-label-container\"><div class=\"sk-label sk-toggleable\"><input class=\"sk-toggleable__control sk-hidden--visually\" id=\"sk-estimator-id-8\" type=\"checkbox\" ><label for=\"sk-estimator-id-8\" class=\"sk-toggleable__label sk-toggleable__label-arrow\">Pipeline</label><div class=\"sk-toggleable__content\"><pre>Pipeline(steps=[(&#x27;onehot&#x27;, OneHotEncoder()), (&#x27;lr&#x27;, LogisticRegression())])</pre></div></div></div><div class=\"sk-serial\"><div class=\"sk-item\"><div class=\"sk-estimator sk-toggleable\"><input class=\"sk-toggleable__control sk-hidden--visually\" id=\"sk-estimator-id-9\" type=\"checkbox\" ><label for=\"sk-estimator-id-9\" class=\"sk-toggleable__label sk-toggleable__label-arrow\">OneHotEncoder</label><div class=\"sk-toggleable__content\"><pre>OneHotEncoder()</pre></div></div></div><div class=\"sk-item\"><div class=\"sk-estimator sk-toggleable\"><input class=\"sk-toggleable__control sk-hidden--visually\" id=\"sk-estimator-id-10\" type=\"checkbox\" ><label for=\"sk-estimator-id-10\" class=\"sk-toggleable__label sk-toggleable__label-arrow\">LogisticRegression</label><div class=\"sk-toggleable__content\"><pre>LogisticRegression()</pre></div></div></div></div></div></div></div>"
      ],
      "text/plain": [
       "Pipeline(steps=[('onehot', OneHotEncoder()), ('lr', LogisticRegression())])"
      ]
     },
     "execution_count": 51,
     "metadata": {},
     "output_type": "execute_result"
    }
   ],
   "source": [
    "from sklearn.pipeline import Pipeline\n",
    "from sklearn.preprocessing import OneHotEncoder\n",
    "from sklearn.linear_model import LogisticRegression\n",
    "import pandas as pd\n",
    "\n",
    "\n",
    "\n",
    "estimators = [\n",
    "    ('onehot', OneHotEncoder()),\n",
    "    ('lr', LogisticRegression())\n",
    "]\n",
    "pipe = Pipeline(estimators)\n",
    "\n",
    "# Just check the encoded variables\n",
    "ohe = OneHotEncoder()\n",
    "ohe.fit_transform(dt[['user', 'skill']]).toarray()\n",
    "\n",
    "\n",
    "# IRT\n",
    "pipe.fit(dt[['user', 'skill']], dt['correct'])\n",
    "\n",
    "\n"
   ]
  },
  {
   "cell_type": "code",
   "execution_count": 52,
   "id": "fd7ae749",
   "metadata": {},
   "outputs": [],
   "source": [
    "users=dt.user.unique()\n",
    "ki=['user_'+str(i) for i in users]\n",
    "wa=['skill_'+str(j) for j in dt.skill.unique()]"
   ]
  },
  {
   "cell_type": "code",
   "execution_count": 53,
   "id": "751b3627",
   "metadata": {},
   "outputs": [],
   "source": [
    "cofs=pipe[1].coef_\n",
    "diffik=pd.Series(index=dt.skill.unique(),data=cofs.reshape(-1,)[-112:])\n",
    "scv=diffik.sort_values().index.values\n",
    "po=[]\n",
    "for j in dt.skill.values:\n",
    "    po.append((np.where(scv==j)[0]+1)[0])\n",
    "dt.skill=po\n",
    "theta=pd.Series(index=ki,data=cofs.reshape(-1,)[:-112])\n",
    "diffik=pd.Series(data=diffik.sort_values().values)\n",
    "\n",
    "fiffik=diffik-diffik.min()\n",
    "def sigmoid(x):\n",
    "    return 1/(1+np.exp(-x))\n",
    "def update_theta(theta,action,K):\n",
    "    probs=sigmoid(K*(theta-action))\n",
    "    haz=np.random.binomial(1,p=probs)\n",
    "    return theta+K*(haz-probs)\n"
   ]
  },
  {
   "cell_type": "code",
   "execution_count": 54,
   "id": "920135ab",
   "metadata": {},
   "outputs": [],
   "source": [
    "\n",
    "def upda_thet(theta,action,K,out):\n",
    "    probs=sigmoid(K*(theta-action))\n",
    "    \n",
    "    return theta+K*(out-probs)"
   ]
  },
  {
   "cell_type": "code",
   "execution_count": 55,
   "id": "29c118e3",
   "metadata": {},
   "outputs": [],
   "source": [
    "wa={}\n",
    "for i in np.arange(-10.8,10.1,.2):\n",
    "    wa[np.around(i,decimals=1)]=np.around(i,decimals=1)\n",
    "for j in np.arange(-10.9,10,0.2):\n",
    "    wa[np.around(j,decimals=1)]=np.around(j-0.1,decimals=1)"
   ]
  },
  {
   "cell_type": "code",
   "execution_count": 56,
   "id": "57f47ef2",
   "metadata": {},
   "outputs": [],
   "source": [
    "fake_dic_panda_real={}\n",
    "for j in dt.user.unique():\n",
    "    m=dt[dt.user==j]\n",
    "    fake_dic_panda_real['user_'+str(j)]=pd.DataFrame(index=np.arange(len(m)))\n",
    "    fake_dic_panda_real['user_'+str(j)]['theta_'+str(j)]=0\n",
    "    fake_dic_panda_real['user_'+str(j)]['action_'+str(j)]=m.skill.values\n",
    "    l=[0]\n",
    "    r=[]\n",
    "    for i in range(len(m)):\n",
    "        l.append(wa[np.around(upda_thet(l[-1],diffik.iloc[m.skill.iloc[i]-1],1,m.correct.iloc[i]),decimals=1)])\n",
    "        r.append(((l[-1]-l[-2])>0)*fiffik.iloc[m.skill.iloc[i]-1])\n",
    "    fake_dic_panda_real['user_'+str(j)]['theta_'+str(j)]=l[:-1]\n",
    "    fake_dic_panda_real['user_'+str(j)]['reward_'+str(j)]=r\n",
    "    fake_dic_panda_real['user_'+str(j)]['new_theta_'+str(j)]=l[1:]"
   ]
  },
  {
   "cell_type": "code",
   "execution_count": 57,
   "id": "eb123894",
   "metadata": {},
   "outputs": [],
   "source": [
    "fake_dic_panda={}\n",
    "for j in dt.user.unique():\n",
    "    m=dt[dt.user==j]\n",
    "    fake_dic_panda['user_'+str(j)]=pd.DataFrame(index=np.arange(len(m)))\n",
    "    fake_dic_panda['user_'+str(j)]['theta_'+str(j)]=0\n",
    "    fake_dic_panda['user_'+str(j)]['action_'+str(j)]=m.skill.values\n",
    "    l=[0]\n",
    "    r=[]\n",
    "    for i in fake_dic_panda['user_'+str(j)]['action_'+str(j)]:\n",
    "        l.append(wa[np.around(update_theta(l[-1],diffik.iloc[i-1],1),decimals=1)])\n",
    "        r.append(((l[-1]-l[-2])>0)*fiffik.iloc[i-1])\n",
    "    fake_dic_panda['user_'+str(j)]['theta_'+str(j)]=l[:-1]\n",
    "    fake_dic_panda['user_'+str(j)]['reward_'+str(j)]=r\n",
    "    fake_dic_panda['user_'+str(j)]['new_theta_'+str(j)]=l[1:]"
   ]
  },
  {
   "cell_type": "code",
   "execution_count": 130,
   "id": "fcfdd990",
   "metadata": {},
   "outputs": [],
   "source": [
    "a=dt.groupby(['user','skill']).size()"
   ]
  },
  {
   "cell_type": "code",
   "execution_count": 132,
   "id": "249140c7",
   "metadata": {},
   "outputs": [
    {
     "data": {
      "text/html": [
       "<div>\n",
       "<style scoped>\n",
       "    .dataframe tbody tr th:only-of-type {\n",
       "        vertical-align: middle;\n",
       "    }\n",
       "\n",
       "    .dataframe tbody tr th {\n",
       "        vertical-align: top;\n",
       "    }\n",
       "\n",
       "    .dataframe thead th {\n",
       "        text-align: right;\n",
       "    }\n",
       "</style>\n",
       "<table border=\"1\" class=\"dataframe\">\n",
       "  <thead>\n",
       "    <tr style=\"text-align: right;\">\n",
       "      <th></th>\n",
       "      <th>user</th>\n",
       "      <th>item</th>\n",
       "      <th>skill</th>\n",
       "      <th>correct</th>\n",
       "      <th>wins</th>\n",
       "      <th>fails</th>\n",
       "    </tr>\n",
       "  </thead>\n",
       "  <tbody>\n",
       "    <tr>\n",
       "      <th>10540</th>\n",
       "      <td>0</td>\n",
       "      <td>54003</td>\n",
       "      <td>35</td>\n",
       "      <td>0</td>\n",
       "      <td>0</td>\n",
       "      <td>0</td>\n",
       "    </tr>\n",
       "    <tr>\n",
       "      <th>10557</th>\n",
       "      <td>0</td>\n",
       "      <td>53991</td>\n",
       "      <td>35</td>\n",
       "      <td>1</td>\n",
       "      <td>0</td>\n",
       "      <td>1</td>\n",
       "    </tr>\n",
       "    <tr>\n",
       "      <th>10567</th>\n",
       "      <td>0</td>\n",
       "      <td>54071</td>\n",
       "      <td>35</td>\n",
       "      <td>0</td>\n",
       "      <td>1</td>\n",
       "      <td>1</td>\n",
       "    </tr>\n",
       "    <tr>\n",
       "      <th>10588</th>\n",
       "      <td>0</td>\n",
       "      <td>54015</td>\n",
       "      <td>35</td>\n",
       "      <td>1</td>\n",
       "      <td>1</td>\n",
       "      <td>2</td>\n",
       "    </tr>\n",
       "    <tr>\n",
       "      <th>10608</th>\n",
       "      <td>0</td>\n",
       "      <td>53987</td>\n",
       "      <td>35</td>\n",
       "      <td>1</td>\n",
       "      <td>2</td>\n",
       "      <td>2</td>\n",
       "    </tr>\n",
       "    <tr>\n",
       "      <th>...</th>\n",
       "      <td>...</td>\n",
       "      <td>...</td>\n",
       "      <td>...</td>\n",
       "      <td>...</td>\n",
       "      <td>...</td>\n",
       "      <td>...</td>\n",
       "    </tr>\n",
       "    <tr>\n",
       "      <th>190611</th>\n",
       "      <td>0</td>\n",
       "      <td>59762</td>\n",
       "      <td>6</td>\n",
       "      <td>0</td>\n",
       "      <td>6</td>\n",
       "      <td>5</td>\n",
       "    </tr>\n",
       "    <tr>\n",
       "      <th>190612</th>\n",
       "      <td>0</td>\n",
       "      <td>59763</td>\n",
       "      <td>6</td>\n",
       "      <td>1</td>\n",
       "      <td>6</td>\n",
       "      <td>6</td>\n",
       "    </tr>\n",
       "    <tr>\n",
       "      <th>190613</th>\n",
       "      <td>0</td>\n",
       "      <td>59764</td>\n",
       "      <td>6</td>\n",
       "      <td>1</td>\n",
       "      <td>7</td>\n",
       "      <td>6</td>\n",
       "    </tr>\n",
       "    <tr>\n",
       "      <th>190614</th>\n",
       "      <td>0</td>\n",
       "      <td>59765</td>\n",
       "      <td>6</td>\n",
       "      <td>1</td>\n",
       "      <td>8</td>\n",
       "      <td>6</td>\n",
       "    </tr>\n",
       "    <tr>\n",
       "      <th>190615</th>\n",
       "      <td>0</td>\n",
       "      <td>59682</td>\n",
       "      <td>6</td>\n",
       "      <td>1</td>\n",
       "      <td>9</td>\n",
       "      <td>6</td>\n",
       "    </tr>\n",
       "  </tbody>\n",
       "</table>\n",
       "<p>543 rows × 6 columns</p>\n",
       "</div>"
      ],
      "text/plain": [
       "        user   item  skill  correct  wins  fails\n",
       "10540      0  54003     35        0     0      0\n",
       "10557      0  53991     35        1     0      1\n",
       "10567      0  54071     35        0     1      1\n",
       "10588      0  54015     35        1     1      2\n",
       "10608      0  53987     35        1     2      2\n",
       "...      ...    ...    ...      ...   ...    ...\n",
       "190611     0  59762      6        0     6      5\n",
       "190612     0  59763      6        1     6      6\n",
       "190613     0  59764      6        1     7      6\n",
       "190614     0  59765      6        1     8      6\n",
       "190615     0  59682      6        1     9      6\n",
       "\n",
       "[543 rows x 6 columns]"
      ]
     },
     "execution_count": 132,
     "metadata": {},
     "output_type": "execute_result"
    }
   ],
   "source": [
    "dt[dt.user==0]"
   ]
  },
  {
   "cell_type": "code",
   "execution_count": null,
   "id": "c04323ac",
   "metadata": {},
   "outputs": [],
   "source": []
  }
 ],
 "metadata": {
  "kernelspec": {
   "display_name": "newenv",
   "language": "python",
   "name": "newenv"
  },
  "language_info": {
   "codemirror_mode": {
    "name": "ipython",
    "version": 3
   },
   "file_extension": ".py",
   "mimetype": "text/x-python",
   "name": "python",
   "nbconvert_exporter": "python",
   "pygments_lexer": "ipython3",
   "version": "3.9.16"
  }
 },
 "nbformat": 4,
 "nbformat_minor": 5
}
